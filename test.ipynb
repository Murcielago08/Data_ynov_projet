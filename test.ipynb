{
 "cells": [
  {
   "cell_type": "code",
   "execution_count": 1,
   "id": "7ba2135d",
   "metadata": {},
   "outputs": [
    {
     "name": "stdout",
     "output_type": "stream",
     "text": [
      "1 fichiers trouvés dans C:/Users/pierr/OneDrive/Bureau/B3/Projet_python/test\n"
     ]
    },
    {
     "name": "stderr",
     "output_type": "stream",
     "text": [
      "Traitement des fichiers: 100%|██████████| 1/1 [00:00<00:00, 821.29it/s]"
     ]
    },
    {
     "name": "stdout",
     "output_type": "stream",
     "text": [
      "\n",
      "🎉 Import terminé : 0 playlists et 0 morceaux insérés.\n"
     ]
    },
    {
     "name": "stderr",
     "output_type": "stream",
     "text": [
      "\n"
     ]
    }
   ],
   "source": [
    "import os\n",
    "import json\n",
    "import sqlite3\n",
    "from tqdm import tqdm\n",
    "\n",
    "# 📁 1. Dossier où se trouvent les fichiers JSON\n",
    "folder_path = \"C:/Users/pierr/OneDrive/Bureau/B3/Projet_python/test\"  # Change ça si nécessaire\n",
    "\n",
    "# 📦 2. Connexion à SQLite\n",
    "db_path = \"C:/Users/pierr/OneDrive/Bureau/test.db\"\n",
    "conn = sqlite3.connect(db_path)\n",
    "cursor = conn.cursor()\n",
    "\n",
    "# 🧱 3. Création des tables SQL\n",
    "cursor.execute('''\n",
    "CREATE TABLE IF NOT EXISTS playlists (\n",
    "    id INTEGER PRIMARY KEY,\n",
    "    name TEXT,\n",
    "    collaborative TEXT,\n",
    "    modified_at INTEGER,\n",
    "    num_tracks INTEGER,\n",
    "    num_albums INTEGER,\n",
    "    num_followers INTEGER\n",
    ")\n",
    "''')\n",
    "\n",
    "cursor.execute('''\n",
    "CREATE TABLE IF NOT EXISTS tracks (\n",
    "    id INTEGER PRIMARY KEY AUTOINCREMENT,\n",
    "    playlist_id INTEGER,\n",
    "    position INTEGER,\n",
    "    name TEXT,\n",
    "    artist_name TEXT,\n",
    "    album_name TEXT,\n",
    "    duration_ms INTEGER,\n",
    "    FOREIGN KEY(playlist_id) REFERENCES playlists(id)\n",
    ")\n",
    "''')\n",
    "\n",
    "conn.commit()\n",
    "\n",
    "# 🧮 4. Parcours des fichiers JSON\n",
    "json_files = [f for f in os.listdir(folder_path) if f.endswith(\".json\")]\n",
    "print(f\"{len(json_files)} fichiers trouvés dans {folder_path}\")\n",
    "\n",
    "for filename in tqdm(json_files, desc=\"Traitement des fichiers\"):\n",
    "    file_path = os.path.join(folder_path, filename)\n",
    "\n",
    "    try:\n",
    "        with open(file_path, \"r\", encoding=\"utf-8\") as f:\n",
    "            data = json.load(f)\n",
    "\n",
    "        for playlist in data.get(\"playlists\", []):\n",
    "            pid = playlist[\"pid\"]\n",
    "\n",
    "            # Insertion playlist\n",
    "            cursor.execute(\"\"\"\n",
    "                INSERT OR IGNORE INTO playlists (\n",
    "                    id, name, collaborative, modified_at, num_tracks, num_albums, num_followers\n",
    "                ) VALUES (?, ?, ?, ?, ?, ?, ?)\n",
    "            \"\"\", (\n",
    "                pid,\n",
    "                playlist.get(\"name\"),\n",
    "                playlist.get(\"collaborative\"),\n",
    "                playlist.get(\"modified_at\"),\n",
    "                playlist.get(\"num_tracks\"),\n",
    "                playlist.get(\"num_albums\"),\n",
    "                playlist.get(\"num_followers\")\n",
    "            ))\n",
    "\n",
    "            # Insertion des morceaux\n",
    "            for track in playlist.get(\"tracks\", []):\n",
    "                cursor.execute(\"\"\"\n",
    "                    INSERT INTO tracks (\n",
    "                        playlist_id, position, name, artist_name, album_name, duration_ms\n",
    "                    ) VALUES (?, ?, ?, ?, ?, ?)\n",
    "                \"\"\", (\n",
    "                    pid,\n",
    "                    track.get(\"pos\"),\n",
    "                    track.get(\"track_name\"),\n",
    "                    track.get(\"artist_name\"),\n",
    "                    track.get(\"album_name\"),\n",
    "                    track.get(\"duration_ms\")\n",
    "                ))\n",
    "\n",
    "        conn.commit()\n",
    "\n",
    "    except Exception as e:\n",
    "        print(f\"Erreur avec {filename} : {e}\")\n",
    "\n",
    "# ✅ 5. Requête de vérification\n",
    "cursor.execute(\"SELECT COUNT(*) FROM playlists\")\n",
    "nb_playlists = cursor.fetchone()[0]\n",
    "cursor.execute(\"SELECT COUNT(*) FROM tracks\")\n",
    "nb_tracks = cursor.fetchone()[0]\n",
    "\n",
    "print(f\"\\n🎉 Import terminé : {nb_playlists} playlists et {nb_tracks} morceaux insérés.\")\n",
    "\n",
    "conn.close()\n"
   ]
  }
 ],
 "metadata": {
  "kernelspec": {
   "display_name": "Python 3",
   "language": "python",
   "name": "python3"
  },
  "language_info": {
   "codemirror_mode": {
    "name": "ipython",
    "version": 3
   },
   "file_extension": ".py",
   "mimetype": "text/x-python",
   "name": "python",
   "nbconvert_exporter": "python",
   "pygments_lexer": "ipython3",
   "version": "3.12.0"
  }
 },
 "nbformat": 4,
 "nbformat_minor": 5
}
